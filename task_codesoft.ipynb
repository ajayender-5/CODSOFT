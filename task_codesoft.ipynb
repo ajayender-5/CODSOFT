{
 "cells": [
  {
   "cell_type": "markdown",
   "id": "4442de81",
   "metadata": {},
   "source": [
    "## CALCULATOR"
   ]
  },
  {
   "cell_type": "code",
   "execution_count": 1,
   "id": "f2f44f78",
   "metadata": {
    "scrolled": true
   },
   "outputs": [
    {
     "name": "stdout",
     "output_type": "stream",
     "text": [
      "Enter a number : 5\n",
      "Enter a number : 6\n",
      "operators\n",
      "addition\n",
      "subtraction\n",
      "multiplication\n",
      "division\n",
      "Enter  a operation from above menu: addition\n",
      "The addition of Two numbers is 11.0\n"
     ]
    }
   ],
   "source": [
    "num1 = float(input(\"Enter a number : \"))\n",
    "num2 = float(input(\"Enter a number : \"))\n",
    "\n",
    "print (\"operators\")\n",
    "\n",
    "print(\"addition\")\n",
    "print(\"subtraction\")\n",
    "print(\"multiplication\")\n",
    "print(\"division\")\n",
    "\n",
    "operation = input(\"Enter  a operation from above menu: \")\n",
    "\n",
    "if (operation == \"addition\") :\n",
    "    addition = num1 + num2\n",
    "    print(\"The addition of Two numbers is\" , addition)\n",
    "    \n",
    "elif (operation == \"subtraction\") :\n",
    "    subtraction = num1 - num2\n",
    "    print(\"The subtraction of Two numbers is\" , subtraction)\n",
    "\n",
    "elif (operation == \"multiplication\") :\n",
    "    multiplication = num1 * num2\n",
    "    print(\"The multiplication of Two numbers is\" , multiplication)\n",
    "    \n",
    "elif (operation == \"division\") :\n",
    "    division = num1 / num2\n",
    "    print(\"The division of Two numbers is\" , division)\n",
    "else :\n",
    "    print(\"Enter a valid operation\")"
   ]
  },
  {
   "cell_type": "markdown",
   "id": "c42610ec",
   "metadata": {},
   "source": [
    "## PASSWORD GENERATOR"
   ]
  },
  {
   "cell_type": "code",
   "execution_count": 10,
   "id": "8c00105a",
   "metadata": {},
   "outputs": [
    {
     "name": "stdout",
     "output_type": "stream",
     "text": [
      " Welcome to the Password Generator! \n",
      "How long would you like your password to be? 5\n",
      "\n",
      "Great choice! Your new password is:\n",
      " 25cCI \n"
     ]
    }
   ],
   "source": [
    "import random\n",
    "import string\n",
    "\n",
    "def generate_password(length):\n",
    "    characters = string.ascii_letters + string.digits + string.punctuation\n",
    "    password = ''.join(random.choice(characters) for _ in range(length))\n",
    "    return password\n",
    "\n",
    "def main():\n",
    "    print(\" Welcome to the Password Generator! \")\n",
    "   \n",
    "\n",
    "    try:\n",
    "        length = int(input(\"How long would you like your password to be? \"))\n",
    "    except ValueError:\n",
    "        print(\"Oops! Please enter a valid number.\")\n",
    "        return\n",
    "\n",
    "    if length > 0:\n",
    "        password = generate_password(length)\n",
    "        print(\"\\nGreat choice! Your new password is:\")\n",
    "        print(f\" {password} \")\n",
    "    else:\n",
    "        print(\"Oops! Invalid password length. Please enter a positive number.\")\n",
    "\n",
    "if __name__ == \"__main__\":\n",
    "    main()\n"
   ]
  },
  {
   "cell_type": "markdown",
   "id": "8a0d194b",
   "metadata": {},
   "source": [
    "# Rock-Paper-Scissors Game"
   ]
  },
  {
   "cell_type": "code",
   "execution_count": 12,
   "id": "9fd7e9d3",
   "metadata": {},
   "outputs": [
    {
     "name": "stdout",
     "output_type": "stream",
     "text": [
      "Welcome to Rock-Paper-Scissors Game!\n",
      "Choose rock, paper, or scissors: rock\n",
      "\n",
      "Your choice: rock\n",
      "Computer's choice: paper\n",
      "Result: You lose!\n",
      "\n",
      "Do you want to play again? (yes/no): yes\n",
      "Choose rock, paper, or scissors: scissors\n",
      "\n",
      "Your choice: scissors\n",
      "Computer's choice: scissors\n",
      "Result: It's a tie!\n",
      "\n",
      "Do you want to play again? (yes/no): yes\n",
      "Choose rock, paper, or scissors: paper\n",
      "\n",
      "Your choice: paper\n",
      "Computer's choice: rock\n",
      "Result: You win!\n",
      "\n",
      "Do you want to play again? (yes/no): no\n",
      "Thanks for playing! Goodbye!\n"
     ]
    }
   ],
   "source": [
    "import random\n",
    "\n",
    "def get_user_choice():\n",
    "    return input(\"Choose rock, paper, or scissors: \").lower()\n",
    "\n",
    "def get_computer_choice():\n",
    "    return random.choice([\"rock\", \"paper\", \"scissors\"])\n",
    "\n",
    "def determine_winner(user_choice, computer_choice):\n",
    "    if user_choice == computer_choice:\n",
    "        return \"It's a tie!\"\n",
    "    elif (\n",
    "        (user_choice == \"rock\" and computer_choice == \"scissors\") or\n",
    "        (user_choice == \"scissors\" and computer_choice == \"paper\") or\n",
    "        (user_choice == \"paper\" and computer_choice == \"rock\")\n",
    "    ):\n",
    "        return \"You win!\"\n",
    "    else:\n",
    "        return \"You lose!\"\n",
    "\n",
    "def play_game():\n",
    "    while True:\n",
    "        user_choice = get_user_choice()\n",
    "        computer_choice = get_computer_choice()\n",
    "\n",
    "        result = determine_winner(user_choice, computer_choice)\n",
    "        print(f\"\\nYour choice: {user_choice}\")\n",
    "        print(f\"Computer's choice: {computer_choice}\")\n",
    "        print(f\"Result: {result}\")\n",
    "\n",
    "        play_again = input(\"\\nDo you want to play again? (yes/no): \").lower()\n",
    "        if play_again != \"yes\":\n",
    "            print(\"Thanks for playing! Goodbye!\")\n",
    "            break\n",
    "\n",
    "if __name__ == \"__main__\":\n",
    "    print(\"Welcome to Rock-Paper-Scissors Game!\")\n",
    "    play_game()\n"
   ]
  },
  {
   "cell_type": "code",
   "execution_count": null,
   "id": "5c356370",
   "metadata": {},
   "outputs": [],
   "source": []
  }
 ],
 "metadata": {
  "kernelspec": {
   "display_name": "Python 3 (ipykernel)",
   "language": "python",
   "name": "python3"
  },
  "language_info": {
   "codemirror_mode": {
    "name": "ipython",
    "version": 3
   },
   "file_extension": ".py",
   "mimetype": "text/x-python",
   "name": "python",
   "nbconvert_exporter": "python",
   "pygments_lexer": "ipython3",
   "version": "3.11.5"
  }
 },
 "nbformat": 4,
 "nbformat_minor": 5
}
